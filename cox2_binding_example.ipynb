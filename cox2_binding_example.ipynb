{
 "cells": [
  {
   "cell_type": "code",
   "execution_count": 53,
   "metadata": {},
   "outputs": [],
   "source": [
    "from vina import Vina\n",
    "from meeko import MoleculePreparation\n",
    "from rdkit.Chem import MolFromSmiles, AddHs\n",
    "from rdkit.Chem import AllChem, rdCoordGen\n"
   ]
  },
  {
   "cell_type": "code",
   "execution_count": 54,
   "metadata": {},
   "outputs": [],
   "source": [
    "v = Vina(sf_name='vina')\n",
    "\n",
    "receptor_path = 'data/COX-2.pdbqt'\n",
    "v.set_receptor(receptor_path)"
   ]
  },
  {
   "cell_type": "code",
   "execution_count": null,
   "metadata": {},
   "outputs": [],
   "source": [
    "some_molecule = 'CC(C1=CC(=C(C=C1)C2=CC=CC=C2)F)C(=O)N\t'\n",
    "\n",
    "lig = MolFromSmiles(some_molecule)\n",
    "protonated_lig = AddHs(lig)"
   ]
  },
  {
   "cell_type": "code",
   "execution_count": 56,
   "metadata": {},
   "outputs": [
    {
     "data": {
      "text/plain": [
       "<rdkit.Chem.rdchem.Mol at 0x755078874430>"
      ]
     },
     "execution_count": 56,
     "metadata": {},
     "output_type": "execute_result"
    }
   ],
   "source": [
    "rdCoordGen.AddCoords(protonated_lig)\n",
    "protonated_lig"
   ]
  },
  {
   "cell_type": "code",
   "execution_count": 57,
   "metadata": {},
   "outputs": [],
   "source": [
    "meeko_prep = MoleculePreparation()\n",
    "meeko_prep.prepare(protonated_lig)\n",
    "lig_pdbqt = meeko_prep.write_pdbqt_string()"
   ]
  },
  {
   "cell_type": "code",
   "execution_count": null,
   "metadata": {},
   "outputs": [],
   "source": [
    "v.set_ligand_from_string(lig_pdbqt)"
   ]
  },
  {
   "cell_type": "code",
   "execution_count": 59,
   "metadata": {},
   "outputs": [
    {
     "name": "stdout",
     "output_type": "stream",
     "text": [
      "Computing Vina grid ... done.\n"
     ]
    }
   ],
   "source": [
    "v.compute_vina_maps(center=[27.116, 24.090, 14.936], box_size=[10, 10, 10])"
   ]
  },
  {
   "cell_type": "code",
   "execution_count": 77,
   "metadata": {},
   "outputs": [
    {
     "name": "stdout",
     "output_type": "stream",
     "text": [
      "Performing docking (random seed: -1851671944) ... \n",
      "0%   10   20   30   40   50   60   70   80   90   100%\n",
      "|----|----|----|----|----|----|----|----|----|----|\n",
      "***************************************************\n",
      "\n",
      "mode |   affinity | dist from best mode\n",
      "     | (kcal/mol) | rmsd l.b.| rmsd u.b.\n",
      "-----+------------+----------+----------\n",
      "   1       -9.194          0          0\n",
      "   2       -8.754      4.476      6.375\n",
      "   3       -8.736      1.782      2.453\n",
      "   4       -8.579      2.751      4.961\n"
     ]
    }
   ],
   "source": [
    "v.dock(exhaustiveness=32, n_poses=5)"
   ]
  },
  {
   "cell_type": "code",
   "execution_count": 78,
   "metadata": {},
   "outputs": [
    {
     "data": {
      "text/plain": [
       "array([ -9.194, -10.806,   0.   ,   0.   ,   0.   ,   4.689,   1.612,\n",
       "         4.689])"
      ]
     },
     "execution_count": 78,
     "metadata": {},
     "output_type": "execute_result"
    }
   ],
   "source": [
    "v.score()"
   ]
  },
  {
   "cell_type": "code",
   "execution_count": 76,
   "metadata": {},
   "outputs": [
    {
     "data": {
      "text/plain": [
       "-9.207"
      ]
     },
     "execution_count": 76,
     "metadata": {},
     "output_type": "execute_result"
    }
   ],
   "source": [
    "v.score()[0]"
   ]
  },
  {
   "cell_type": "code",
   "execution_count": null,
   "metadata": {},
   "outputs": [],
   "source": []
  }
 ],
 "metadata": {
  "kernelspec": {
   "display_name": "hack",
   "language": "python",
   "name": "python3"
  },
  "language_info": {
   "codemirror_mode": {
    "name": "ipython",
    "version": 3
   },
   "file_extension": ".py",
   "mimetype": "text/x-python",
   "name": "python",
   "nbconvert_exporter": "python",
   "pygments_lexer": "ipython3",
   "version": "3.10.16"
  }
 },
 "nbformat": 4,
 "nbformat_minor": 2
}
