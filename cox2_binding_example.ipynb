{
 "cells": [
  {
   "cell_type": "code",
   "execution_count": null,
   "metadata": {},
   "outputs": [],
   "source": [
    "from vina import Vina\n",
    "from meeko import MoleculePreparation\n",
    "from rdkit.Chem import MolFromSmiles, AddHs\n",
    "from rdkit.Chem import AllChem, rdCoordGen\n"
   ]
  },
  {
   "cell_type": "code",
   "execution_count": 9,
   "metadata": {},
   "outputs": [],
   "source": [
    "v = Vina(sf_name='vina')\n",
    "\n",
    "receptor_path = 'data/COX-2.pdbqt'\n",
    "v.set_receptor(receptor_path)"
   ]
  },
  {
   "cell_type": "code",
   "execution_count": 10,
   "metadata": {},
   "outputs": [],
   "source": [
    "some_molecule = 'CC(C1=CC(=C(C=C1)C2=CC=CC=C2)F)C(=O)N\t'\n",
    "\n",
    "lig = MolFromSmiles(some_molecule)\n",
    "protonated_lig = AddHs(lig)"
   ]
  },
  {
   "cell_type": "code",
   "execution_count": 11,
   "metadata": {},
   "outputs": [
    {
     "ename": "ValueError",
     "evalue": "RDKit molecule does not have a conformer. Need 3D coordinates.",
     "output_type": "error",
     "traceback": [
      "\u001b[0;31m---------------------------------------------------------------------------\u001b[0m",
      "\u001b[0;31mValueError\u001b[0m                                Traceback (most recent call last)",
      "Cell \u001b[0;32mIn[11], line 2\u001b[0m\n\u001b[1;32m      1\u001b[0m meeko_prep \u001b[38;5;241m=\u001b[39m MoleculePreparation()\n\u001b[0;32m----> 2\u001b[0m \u001b[43mmeeko_prep\u001b[49m\u001b[38;5;241;43m.\u001b[39;49m\u001b[43mprepare\u001b[49m\u001b[43m(\u001b[49m\u001b[43mprotonated_lig\u001b[49m\u001b[43m)\u001b[49m\n\u001b[1;32m      3\u001b[0m lig_pdbqt \u001b[38;5;241m=\u001b[39m meeko_prep\u001b[38;5;241m.\u001b[39mwrite_pdbqt_string()\n",
      "File \u001b[0;32m~/miniconda3/envs/hack/lib/python3.10/site-packages/meeko/preparation.py:489\u001b[0m, in \u001b[0;36mMoleculePreparation.prepare\u001b[0;34m(self, mol, root_atom_index, not_terminal_atoms, delete_ring_bonds, glue_pseudo_atoms, conformer_id)\u001b[0m\n\u001b[1;32m    485\u001b[0m     \u001b[38;5;28;01mraise\u001b[39;00m \u001b[38;5;167;01mTypeError\u001b[39;00m(\n\u001b[1;32m    486\u001b[0m         \u001b[38;5;124m\"\u001b[39m\u001b[38;5;124mMolecule is not an instance of supported types: \u001b[39m\u001b[38;5;132;01m%s\u001b[39;00m\u001b[38;5;124m\"\u001b[39m \u001b[38;5;241m%\u001b[39m \u001b[38;5;28mtype\u001b[39m(mol)\n\u001b[1;32m    487\u001b[0m     )\n\u001b[1;32m    488\u001b[0m setup_class \u001b[38;5;241m=\u001b[39m \u001b[38;5;28mself\u001b[39m\u001b[38;5;241m.\u001b[39m_classes_setup[mol_type]\n\u001b[0;32m--> 489\u001b[0m setup \u001b[38;5;241m=\u001b[39m \u001b[43msetup_class\u001b[49m\u001b[38;5;241;43m.\u001b[39;49m\u001b[43mfrom_mol\u001b[49m\u001b[43m(\u001b[49m\n\u001b[1;32m    490\u001b[0m \u001b[43m    \u001b[49m\u001b[43mmol\u001b[49m\u001b[43m,\u001b[49m\n\u001b[1;32m    491\u001b[0m \u001b[43m    \u001b[49m\u001b[43mkeep_chorded_rings\u001b[49m\u001b[38;5;241;43m=\u001b[39;49m\u001b[38;5;28;43mself\u001b[39;49m\u001b[38;5;241;43m.\u001b[39;49m\u001b[43mkeep_chorded_rings\u001b[49m\u001b[43m,\u001b[49m\n\u001b[1;32m    492\u001b[0m \u001b[43m    \u001b[49m\u001b[43mkeep_equivalent_rings\u001b[49m\u001b[38;5;241;43m=\u001b[39;49m\u001b[38;5;28;43mself\u001b[39;49m\u001b[38;5;241;43m.\u001b[39;49m\u001b[43mkeep_equivalent_rings\u001b[49m\u001b[43m,\u001b[49m\n\u001b[1;32m    493\u001b[0m \u001b[43m    \u001b[49m\u001b[43massign_charges\u001b[49m\u001b[38;5;241;43m=\u001b[39;49m\u001b[38;5;28;43mself\u001b[39;49m\u001b[38;5;241;43m.\u001b[39;49m\u001b[43mcharge_model\u001b[49m\u001b[43m \u001b[49m\u001b[38;5;241;43m==\u001b[39;49m\u001b[43m \u001b[49m\u001b[38;5;124;43m\"\u001b[39;49m\u001b[38;5;124;43mgasteiger\u001b[39;49m\u001b[38;5;124;43m\"\u001b[39;49m\u001b[43m,\u001b[49m\n\u001b[1;32m    494\u001b[0m \u001b[43m    \u001b[49m\u001b[43mconformer_id\u001b[49m\u001b[38;5;241;43m=\u001b[39;49m\u001b[43mconformer_id\u001b[49m\u001b[43m,\u001b[49m\n\u001b[1;32m    495\u001b[0m \u001b[43m\u001b[49m\u001b[43m)\u001b[49m\n\u001b[1;32m    497\u001b[0m \u001b[38;5;28mself\u001b[39m\u001b[38;5;241m.\u001b[39mcheck_external_ring_break(setup, delete_ring_bonds, glue_pseudo_atoms)\n\u001b[1;32m    499\u001b[0m \u001b[38;5;66;03m# 1.  assign atom params\u001b[39;00m\n",
      "File \u001b[0;32m~/miniconda3/envs/hack/lib/python3.10/site-packages/meeko/molsetup.py:1592\u001b[0m, in \u001b[0;36mRDKitMoleculeSetup.from_mol\u001b[0;34m(cls, mol, keep_chorded_rings, keep_equivalent_rings, assign_charges, conformer_id)\u001b[0m\n\u001b[1;32m   1590\u001b[0m     \u001b[38;5;28;01mraise\u001b[39;00m \u001b[38;5;167;01mValueError\u001b[39;00m(\u001b[38;5;124m\"\u001b[39m\u001b[38;5;124mRDKit molecule has implicit Hs. Need explicit Hs.\u001b[39m\u001b[38;5;124m\"\u001b[39m)\n\u001b[1;32m   1591\u001b[0m \u001b[38;5;28;01mif\u001b[39;00m mol\u001b[38;5;241m.\u001b[39mGetNumConformers() \u001b[38;5;241m==\u001b[39m \u001b[38;5;241m0\u001b[39m:\n\u001b[0;32m-> 1592\u001b[0m     \u001b[38;5;28;01mraise\u001b[39;00m \u001b[38;5;167;01mValueError\u001b[39;00m(\n\u001b[1;32m   1593\u001b[0m         \u001b[38;5;124m\"\u001b[39m\u001b[38;5;124mRDKit molecule does not have a conformer. Need 3D coordinates.\u001b[39m\u001b[38;5;124m\"\u001b[39m\n\u001b[1;32m   1594\u001b[0m     )\n\u001b[1;32m   1596\u001b[0m \u001b[38;5;66;03m# Gets the RDKit Conformer that we are going to load into the molecule setup\u001b[39;00m\n\u001b[1;32m   1597\u001b[0m rdkit_conformer \u001b[38;5;241m=\u001b[39m mol\u001b[38;5;241m.\u001b[39mGetConformer(conformer_id)\n",
      "\u001b[0;31mValueError\u001b[0m: RDKit molecule does not have a conformer. Need 3D coordinates."
     ]
    }
   ],
   "source": [
    "meeko_prep = MoleculePreparation()\n",
    "meeko_prep.prepare(protonated_lig)\n",
    "lig_pdbqt = meeko_prep.write_pdbqt_string()"
   ]
  },
  {
   "cell_type": "code",
   "execution_count": null,
   "metadata": {},
   "outputs": [],
   "source": [
    "v.set_ligand_from_string(lig_pdbqt)"
   ]
  }
 ],
 "metadata": {
  "kernelspec": {
   "display_name": "hack",
   "language": "python",
   "name": "python3"
  },
  "language_info": {
   "codemirror_mode": {
    "name": "ipython",
    "version": 3
   },
   "file_extension": ".py",
   "mimetype": "text/x-python",
   "name": "python",
   "nbconvert_exporter": "python",
   "pygments_lexer": "ipython3",
   "version": "3.10.16"
  }
 },
 "nbformat": 4,
 "nbformat_minor": 2
}
